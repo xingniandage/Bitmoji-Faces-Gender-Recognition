{
 "cells": [
  {
   "cell_type": "code",
   "execution_count": 1,
   "id": "0e84df3d",
   "metadata": {
    "execution": {
     "iopub.execute_input": "2022-12-13T08:02:26.630672Z",
     "iopub.status.busy": "2022-12-13T08:02:26.629511Z",
     "iopub.status.idle": "2022-12-13T08:02:35.027888Z",
     "shell.execute_reply": "2022-12-13T08:02:35.026289Z"
    },
    "papermill": {
     "duration": 8.410455,
     "end_time": "2022-12-13T08:02:35.031268",
     "exception": false,
     "start_time": "2022-12-13T08:02:26.620813",
     "status": "completed"
    },
    "tags": []
   },
   "outputs": [],
   "source": [
    "import numpy as np # linear algebra\n",
    "import pandas as pd # data processing, CSV file I/O (e.g. pd.read_csv)\n",
    "import matplotlib.pyplot as plt \n",
    "import matplotlib.image as mpimg\n",
    "import sklearn as skl\n",
    "import random as rdm\n",
    "import pickle as pkl\n",
    "from sklearn.model_selection import train_test_split\n",
    "from keras.applications.densenet import DenseNet169\n",
    "from keras.models import Model\n",
    "from keras.layers import Dense, GlobalAveragePooling2D\n",
    "from tensorflow.keras.optimizers import SGD\n",
    "from keras.callbacks import EarlyStopping, ModelCheckpoint, TensorBoard\n",
    "from datetime import datetime"
   ]
  },
  {
   "cell_type": "code",
   "execution_count": 2,
   "id": "44b6f58b",
   "metadata": {
    "execution": {
     "iopub.execute_input": "2022-12-13T08:02:35.045049Z",
     "iopub.status.busy": "2022-12-13T08:02:35.043561Z",
     "iopub.status.idle": "2022-12-13T08:02:35.072381Z",
     "shell.execute_reply": "2022-12-13T08:02:35.071263Z"
    },
    "papermill": {
     "duration": 0.038554,
     "end_time": "2022-12-13T08:02:35.075193",
     "exception": false,
     "start_time": "2022-12-13T08:02:35.036639",
     "status": "completed"
    },
    "tags": []
   },
   "outputs": [],
   "source": [
    "data = pd.read_csv(\"/kaggle/input/bitmoji-faces-gender-recognition/train.csv\")\n",
    "path = \"/kaggle/input/bitmoji-faces-gender-recognition/BitmojiDataset/trainimages/\"\n",
    "path_test = \"/kaggle/input/bitmoji-faces-gender-recognition/BitmojiDataset/testimages/\""
   ]
  },
  {
   "cell_type": "code",
   "execution_count": 3,
   "id": "4080a8e9",
   "metadata": {
    "execution": {
     "iopub.execute_input": "2022-12-13T08:02:35.087709Z",
     "iopub.status.busy": "2022-12-13T08:02:35.087014Z",
     "iopub.status.idle": "2022-12-13T08:02:35.105604Z",
     "shell.execute_reply": "2022-12-13T08:02:35.103682Z"
    },
    "papermill": {
     "duration": 0.028448,
     "end_time": "2022-12-13T08:02:35.108631",
     "exception": false,
     "start_time": "2022-12-13T08:02:35.080183",
     "status": "completed"
    },
    "tags": []
   },
   "outputs": [
    {
     "name": "stdout",
     "output_type": "stream",
     "text": [
      "(2700,) (2700,) (300,) (2700, 2)\n",
      "[['0820.jpg' -1]\n",
      " ['0418.jpg' -1]\n",
      " ['0704.jpg' -1]\n",
      " ...\n",
      " ['1653.jpg' -1]\n",
      " ['2607.jpg' -1]\n",
      " ['2732.jpg' -1]]\n"
     ]
    }
   ],
   "source": [
    "y = data['is_male']\n",
    "x = data['image_id']\n",
    "x_test, x_val_name, y_test, y_val_single = train_test_split(x, y, test_size=0.1, random_state=0)\n",
    "x_y = np.stack((x_test, y_test), axis=1)\n",
    "print(x_test.shape, y_test.shape, x_val_name.shape, x_y.shape)\n",
    "print(x_y)"
   ]
  },
  {
   "cell_type": "code",
   "execution_count": 4,
   "id": "769e8d04",
   "metadata": {
    "execution": {
     "iopub.execute_input": "2022-12-13T08:02:35.121740Z",
     "iopub.status.busy": "2022-12-13T08:02:35.121264Z",
     "iopub.status.idle": "2022-12-13T08:02:39.478378Z",
     "shell.execute_reply": "2022-12-13T08:02:39.476890Z"
    },
    "papermill": {
     "duration": 4.369086,
     "end_time": "2022-12-13T08:02:39.483374",
     "exception": false,
     "start_time": "2022-12-13T08:02:35.114288",
     "status": "completed"
    },
    "tags": []
   },
   "outputs": [
    {
     "name": "stdout",
     "output_type": "stream",
     "text": [
      "(300, 384, 384, 3) (300, 2)\n"
     ]
    }
   ],
   "source": [
    "x_val = list()\n",
    "for i in x_val_name:\n",
    "    x_tmp = mpimg.imread(path + i).astype(np.float64)\n",
    "    x_tmp /= 255\n",
    "    x_val.append(x_tmp)\n",
    "y_val = list()\n",
    "for i in y_val_single:\n",
    "    y_tmp = [1, 0] if i == 1 else [0, 1]\n",
    "    y_val.append(y_tmp)\n",
    "x_val = np.array(x_val)\n",
    "y_val = np.array(y_val)\n",
    "print(x_val.shape, y_val.shape)"
   ]
  },
  {
   "cell_type": "code",
   "execution_count": 5,
   "id": "100cec79",
   "metadata": {
    "execution": {
     "iopub.execute_input": "2022-12-13T08:02:39.501524Z",
     "iopub.status.busy": "2022-12-13T08:02:39.500607Z",
     "iopub.status.idle": "2022-12-13T08:02:39.518477Z",
     "shell.execute_reply": "2022-12-13T08:02:39.516964Z"
    },
    "papermill": {
     "duration": 0.029241,
     "end_time": "2022-12-13T08:02:39.521406",
     "exception": false,
     "start_time": "2022-12-13T08:02:39.492165",
     "status": "completed"
    },
    "tags": []
   },
   "outputs": [],
   "source": [
    "count_batch = 0\n",
    "max_batch = 27\n",
    "def data_generator():\n",
    "    global count_batch\n",
    "    while 1:\n",
    "        if count_batch == max_batch:\n",
    "            count_batch = 0\n",
    "            rdm.shuffle(x_y)\n",
    "        x_batch = list()\n",
    "        y_batch = list()\n",
    "        for i in range(100):\n",
    "            tmp = count_batch*100+i\n",
    "            x = mpimg.imread(path + x_y[tmp][0]).astype(np.float64)\n",
    "            x /= 255\n",
    "            x_batch.append(x)\n",
    "            y = [1, 0] if x_y[tmp][1] == 1 else [0, 1]\n",
    "            y_batch.append(y)\n",
    "        count_batch += 1\n",
    "        x_batch = np.array(x_batch)\n",
    "        y_batch = np.array(y_batch)\n",
    "        yield(x_batch, y_batch)\n",
    "count_val = 0\n",
    "max_val = 3\n",
    "def val_generator():\n",
    "    global count_val\n",
    "    while 1:\n",
    "        if count_val == max_val:\n",
    "            count_val = 0\n",
    "        x_ = x_val[100*count_val:100*(count_val + 1) - 1]\n",
    "        y_ = y_val[100*count_val:100*(count_val + 1) - 1]\n",
    "        count_val += 1\n",
    "        yield(x_, y_)"
   ]
  },
  {
   "cell_type": "code",
   "execution_count": 6,
   "id": "22696239",
   "metadata": {
    "execution": {
     "iopub.execute_input": "2022-12-13T08:02:39.538220Z",
     "iopub.status.busy": "2022-12-13T08:02:39.537705Z",
     "iopub.status.idle": "2022-12-13T08:02:45.493600Z",
     "shell.execute_reply": "2022-12-13T08:02:45.492162Z"
    },
    "papermill": {
     "duration": 5.968835,
     "end_time": "2022-12-13T08:02:45.497423",
     "exception": false,
     "start_time": "2022-12-13T08:02:39.528588",
     "status": "completed"
    },
    "tags": []
   },
   "outputs": [
    {
     "name": "stderr",
     "output_type": "stream",
     "text": [
      "2022-12-13 08:02:39.617581: I tensorflow/core/common_runtime/process_util.cc:146] Creating new thread pool with default inter op setting: 2. Tune using inter_op_parallelism_threads for best performance.\n"
     ]
    }
   ],
   "source": [
    "conv_base = DenseNet169(weights=\"/kaggle/input/tf-keras-pretrained-model-weights/No Top/densenet169_weights_tf_dim_ordering_tf_kernels_notop.h5\", include_top=False, input_shape=(384,384,3))\n",
    "mx = conv_base.output\n",
    "mx = GlobalAveragePooling2D()(mx)\n",
    "mx = Dense(1024, activation='relu')(mx)\n",
    "predictions = Dense(2, activation='softmax')(mx)\n",
    "\n",
    "# 构建需要训练的完整模型\n",
    "model = Model(inputs=conv_base.input, outputs=predictions)"
   ]
  },
  {
   "cell_type": "code",
   "execution_count": 7,
   "id": "65341bb7",
   "metadata": {
    "execution": {
     "iopub.execute_input": "2022-12-13T08:02:45.516883Z",
     "iopub.status.busy": "2022-12-13T08:02:45.516134Z",
     "iopub.status.idle": "2022-12-13T08:54:10.014398Z",
     "shell.execute_reply": "2022-12-13T08:54:10.013057Z"
    },
    "papermill": {
     "duration": 3084.511691,
     "end_time": "2022-12-13T08:54:10.017765",
     "exception": false,
     "start_time": "2022-12-13T08:02:45.506074",
     "status": "completed"
    },
    "tags": []
   },
   "outputs": [
    {
     "name": "stderr",
     "output_type": "stream",
     "text": [
      "2022-12-13 08:02:45.566466: I tensorflow/core/profiler/lib/profiler_session.cc:131] Profiler session initializing.\n",
      "2022-12-13 08:02:45.566572: I tensorflow/core/profiler/lib/profiler_session.cc:146] Profiler session started.\n",
      "2022-12-13 08:02:45.567768: I tensorflow/core/profiler/lib/profiler_session.cc:164] Profiler session tear down.\n",
      "/opt/conda/lib/python3.7/site-packages/keras/engine/training.py:1972: UserWarning: `Model.fit_generator` is deprecated and will be removed in a future version. Please use `Model.fit`, which supports generators.\n",
      "  warnings.warn('`Model.fit_generator` is deprecated and '\n",
      "2022-12-13 08:02:47.369644: I tensorflow/compiler/mlir/mlir_graph_optimization_pass.cc:185] None of the MLIR Optimization Passes are enabled (registered 2)\n"
     ]
    },
    {
     "name": "stdout",
     "output_type": "stream",
     "text": [
      "Epoch 1/5\n",
      " 1/27 [>.............................] - ETA: 14:41 - loss: 0.7688 - acc: 0.4900"
     ]
    },
    {
     "name": "stderr",
     "output_type": "stream",
     "text": [
      "2022-12-13 08:03:21.296462: I tensorflow/core/profiler/lib/profiler_session.cc:131] Profiler session initializing.\n",
      "2022-12-13 08:03:21.297014: I tensorflow/core/profiler/lib/profiler_session.cc:146] Profiler session started.\n"
     ]
    },
    {
     "name": "stdout",
     "output_type": "stream",
     "text": [
      " 2/27 [=>............................] - ETA: 8:21 - loss: 2.6155 - acc: 0.4850 "
     ]
    },
    {
     "name": "stderr",
     "output_type": "stream",
     "text": [
      "2022-12-13 08:03:41.382621: I tensorflow/core/profiler/lib/profiler_session.cc:66] Profiler session collecting data.\n",
      "2022-12-13 08:03:41.412076: I tensorflow/core/profiler/lib/profiler_session.cc:164] Profiler session tear down.\n",
      "2022-12-13 08:03:41.445438: I tensorflow/core/profiler/rpc/client/save_profile.cc:136] Creating directory: /kaggle/working/bitmoji/logs/pretrain/train/plugins/profile/2022_12_13_08_03_41\n",
      "\n",
      "2022-12-13 08:03:41.455047: I tensorflow/core/profiler/rpc/client/save_profile.cc:142] Dumped gzipped tool data for trace.json.gz to /kaggle/working/bitmoji/logs/pretrain/train/plugins/profile/2022_12_13_08_03_41/9ef2a5fe14fc.trace.json.gz\n",
      "2022-12-13 08:03:41.518697: I tensorflow/core/profiler/rpc/client/save_profile.cc:136] Creating directory: /kaggle/working/bitmoji/logs/pretrain/train/plugins/profile/2022_12_13_08_03_41\n",
      "\n",
      "2022-12-13 08:03:41.527342: I tensorflow/core/profiler/rpc/client/save_profile.cc:142] Dumped gzipped tool data for memory_profile.json.gz to /kaggle/working/bitmoji/logs/pretrain/train/plugins/profile/2022_12_13_08_03_41/9ef2a5fe14fc.memory_profile.json.gz\n",
      "2022-12-13 08:03:41.530106: I tensorflow/core/profiler/rpc/client/capture_profile.cc:251] Creating directory: /kaggle/working/bitmoji/logs/pretrain/train/plugins/profile/2022_12_13_08_03_41\n",
      "Dumped tool data for xplane.pb to /kaggle/working/bitmoji/logs/pretrain/train/plugins/profile/2022_12_13_08_03_41/9ef2a5fe14fc.xplane.pb\n",
      "Dumped tool data for overview_page.pb to /kaggle/working/bitmoji/logs/pretrain/train/plugins/profile/2022_12_13_08_03_41/9ef2a5fe14fc.overview_page.pb\n",
      "Dumped tool data for input_pipeline.pb to /kaggle/working/bitmoji/logs/pretrain/train/plugins/profile/2022_12_13_08_03_41/9ef2a5fe14fc.input_pipeline.pb\n",
      "Dumped tool data for tensorflow_stats.pb to /kaggle/working/bitmoji/logs/pretrain/train/plugins/profile/2022_12_13_08_03_41/9ef2a5fe14fc.tensorflow_stats.pb\n",
      "Dumped tool data for kernel_stats.pb to /kaggle/working/bitmoji/logs/pretrain/train/plugins/profile/2022_12_13_08_03_41/9ef2a5fe14fc.kernel_stats.pb\n",
      "\n"
     ]
    },
    {
     "name": "stdout",
     "output_type": "stream",
     "text": [
      "27/27 [==============================] - 628s 23s/step - loss: 0.5541 - acc: 0.8296 - val_loss: 0.2022 - val_acc: 0.9100\n",
      "\n",
      "Epoch 00001: val_loss improved from inf to 0.20219, saving model to /kaggle/working/bitmoji/model_pretrain_01-0.2022.hdf5\n",
      "Epoch 2/5\n",
      "27/27 [==============================] - 608s 23s/step - loss: 0.1970 - acc: 0.9300 - val_loss: 0.1170 - val_acc: 0.9333\n",
      "\n",
      "Epoch 00002: val_loss improved from 0.20219 to 0.11695, saving model to /kaggle/working/bitmoji/model_pretrain_02-0.1170.hdf5\n",
      "Epoch 3/5\n",
      "27/27 [==============================] - 605s 22s/step - loss: 0.1405 - acc: 0.9493 - val_loss: 0.0837 - val_acc: 0.9700\n",
      "\n",
      "Epoch 00003: val_loss improved from 0.11695 to 0.08372, saving model to /kaggle/working/bitmoji/model_pretrain_03-0.0837.hdf5\n",
      "Epoch 4/5\n",
      "27/27 [==============================] - 605s 22s/step - loss: 0.0637 - acc: 0.9726 - val_loss: 0.0780 - val_acc: 0.9667\n",
      "\n",
      "Epoch 00004: val_loss improved from 0.08372 to 0.07801, saving model to /kaggle/working/bitmoji/model_pretrain_04-0.0780.hdf5\n",
      "Epoch 5/5\n",
      "27/27 [==============================] - 607s 23s/step - loss: 0.0087 - acc: 0.9989 - val_loss: 0.6193 - val_acc: 0.7767\n",
      "\n",
      "Epoch 00005: val_loss did not improve from 0.07801\n"
     ]
    }
   ],
   "source": [
    "conv_base.trainable = False\n",
    "\n",
    "model.compile(optimizer='rmsprop', loss='binary_crossentropy', metrics=['acc'])\n",
    "\n",
    "early_stopping = EarlyStopping(monitor='val_loss', min_delta=1e-3, patience=2, verbose=1, mode='auto', restore_best_weights=True)\n",
    "checkpoint = ModelCheckpoint('/kaggle/working/bitmoji/model_pretrain_{epoch:02d}-{val_loss:.4f}.hdf5', monitor='val_loss', \\\n",
    "                             verbose=1, save_best_only=True, save_weights_only=False, mode='auto', period=1)\n",
    "tensorboard = TensorBoard(log_dir='/kaggle/working/bitmoji/logs/pretrain', histogram_freq=1, batch_size=max_batch, write_graph=False, write_grads=True, \\\n",
    "                          write_images=False, embeddings_freq=0, embeddings_layer_names=None, embeddings_metadata=None, embeddings_data=None, update_freq='batch')\n",
    "\n",
    "history_pretrain = model.fit_generator(\n",
    "    generator=data_generator(),\n",
    "    steps_per_epoch=max_batch,\n",
    "    epochs=5,\n",
    "    max_queue_size=1,\n",
    "    validation_data=(x_val, y_val),\n",
    "    callbacks=[early_stopping, checkpoint, tensorboard]\n",
    ")"
   ]
  },
  {
   "cell_type": "code",
   "execution_count": 8,
   "id": "98c64211",
   "metadata": {
    "execution": {
     "iopub.execute_input": "2022-12-13T08:54:10.050570Z",
     "iopub.status.busy": "2022-12-13T08:54:10.049946Z",
     "iopub.status.idle": "2022-12-13T11:14:50.801029Z",
     "shell.execute_reply": "2022-12-13T11:14:50.799501Z"
    },
    "papermill": {
     "duration": 8440.771249,
     "end_time": "2022-12-13T11:14:50.803697",
     "exception": false,
     "start_time": "2022-12-13T08:54:10.032448",
     "status": "completed"
    },
    "tags": []
   },
   "outputs": [
    {
     "name": "stderr",
     "output_type": "stream",
     "text": [
      "/opt/conda/lib/python3.7/site-packages/keras/optimizer_v2/optimizer_v2.py:356: UserWarning: The `lr` argument is deprecated, use `learning_rate` instead.\n",
      "  \"The `lr` argument is deprecated, use `learning_rate` instead.\")\n",
      "2022-12-13 08:54:10.099203: I tensorflow/core/profiler/lib/profiler_session.cc:131] Profiler session initializing.\n",
      "2022-12-13 08:54:10.099261: I tensorflow/core/profiler/lib/profiler_session.cc:146] Profiler session started.\n",
      "2022-12-13 08:54:10.099404: I tensorflow/core/profiler/lib/profiler_session.cc:164] Profiler session tear down.\n"
     ]
    },
    {
     "name": "stdout",
     "output_type": "stream",
     "text": [
      "Epoch 1/20\n",
      " 1/27 [>.............................] - ETA: 17:48 - loss: 0.0022 - acc: 1.0000"
     ]
    },
    {
     "name": "stderr",
     "output_type": "stream",
     "text": [
      "2022-12-13 08:54:52.723228: I tensorflow/core/profiler/lib/profiler_session.cc:131] Profiler session initializing.\n",
      "2022-12-13 08:54:52.723421: I tensorflow/core/profiler/lib/profiler_session.cc:146] Profiler session started.\n"
     ]
    },
    {
     "name": "stdout",
     "output_type": "stream",
     "text": [
      " 2/27 [=>............................] - ETA: 11:34 - loss: 0.0020 - acc: 1.0000"
     ]
    },
    {
     "name": "stderr",
     "output_type": "stream",
     "text": [
      "2022-12-13 08:55:21.217170: I tensorflow/core/profiler/lib/profiler_session.cc:66] Profiler session collecting data.\n",
      "2022-12-13 08:55:21.276480: I tensorflow/core/profiler/lib/profiler_session.cc:164] Profiler session tear down.\n",
      "2022-12-13 08:55:21.322102: I tensorflow/core/profiler/rpc/client/save_profile.cc:136] Creating directory: /kaggle/working/bitmoji/logs/train/train/plugins/profile/2022_12_13_08_55_21\n",
      "\n",
      "2022-12-13 08:55:21.336701: I tensorflow/core/profiler/rpc/client/save_profile.cc:142] Dumped gzipped tool data for trace.json.gz to /kaggle/working/bitmoji/logs/train/train/plugins/profile/2022_12_13_08_55_21/9ef2a5fe14fc.trace.json.gz\n",
      "2022-12-13 08:55:21.438183: I tensorflow/core/profiler/rpc/client/save_profile.cc:136] Creating directory: /kaggle/working/bitmoji/logs/train/train/plugins/profile/2022_12_13_08_55_21\n",
      "\n",
      "2022-12-13 08:55:21.449715: I tensorflow/core/profiler/rpc/client/save_profile.cc:142] Dumped gzipped tool data for memory_profile.json.gz to /kaggle/working/bitmoji/logs/train/train/plugins/profile/2022_12_13_08_55_21/9ef2a5fe14fc.memory_profile.json.gz\n",
      "2022-12-13 08:55:21.456725: I tensorflow/core/profiler/rpc/client/capture_profile.cc:251] Creating directory: /kaggle/working/bitmoji/logs/train/train/plugins/profile/2022_12_13_08_55_21\n",
      "Dumped tool data for xplane.pb to /kaggle/working/bitmoji/logs/train/train/plugins/profile/2022_12_13_08_55_21/9ef2a5fe14fc.xplane.pb\n",
      "Dumped tool data for overview_page.pb to /kaggle/working/bitmoji/logs/train/train/plugins/profile/2022_12_13_08_55_21/9ef2a5fe14fc.overview_page.pb\n",
      "Dumped tool data for input_pipeline.pb to /kaggle/working/bitmoji/logs/train/train/plugins/profile/2022_12_13_08_55_21/9ef2a5fe14fc.input_pipeline.pb\n",
      "Dumped tool data for tensorflow_stats.pb to /kaggle/working/bitmoji/logs/train/train/plugins/profile/2022_12_13_08_55_21/9ef2a5fe14fc.tensorflow_stats.pb\n",
      "Dumped tool data for kernel_stats.pb to /kaggle/working/bitmoji/logs/train/train/plugins/profile/2022_12_13_08_55_21/9ef2a5fe14fc.kernel_stats.pb\n",
      "\n"
     ]
    },
    {
     "name": "stdout",
     "output_type": "stream",
     "text": [
      "27/27 [==============================] - 784s 29s/step - loss: 0.0151 - acc: 0.9959 - val_loss: 0.3791 - val_acc: 0.8767\n",
      "\n",
      "Epoch 00001: val_loss improved from inf to 0.37908, saving model to /kaggle/working/bitmoji/model_01-0.3791.hdf5\n",
      "Epoch 2/20\n",
      "27/27 [==============================] - 762s 28s/step - loss: 0.0025 - acc: 1.0000 - val_loss: 0.2251 - val_acc: 0.9233\n",
      "\n",
      "Epoch 00002: val_loss improved from 0.37908 to 0.22514, saving model to /kaggle/working/bitmoji/model_02-0.2251.hdf5\n",
      "Epoch 3/20\n",
      "27/27 [==============================] - 758s 28s/step - loss: 0.0018 - acc: 1.0000 - val_loss: 0.1385 - val_acc: 0.9533\n",
      "\n",
      "Epoch 00003: val_loss improved from 0.22514 to 0.13849, saving model to /kaggle/working/bitmoji/model_03-0.1385.hdf5\n",
      "Epoch 4/20\n",
      "27/27 [==============================] - 758s 28s/step - loss: 0.0011 - acc: 1.0000 - val_loss: 0.0926 - val_acc: 0.9667\n",
      "\n",
      "Epoch 00004: val_loss improved from 0.13849 to 0.09258, saving model to /kaggle/working/bitmoji/model_04-0.0926.hdf5\n",
      "Epoch 5/20\n",
      "27/27 [==============================] - 759s 28s/step - loss: 8.4327e-04 - acc: 1.0000 - val_loss: 0.0714 - val_acc: 0.9733\n",
      "\n",
      "Epoch 00005: val_loss improved from 0.09258 to 0.07141, saving model to /kaggle/working/bitmoji/model_05-0.0714.hdf5\n",
      "Epoch 6/20\n",
      "27/27 [==============================] - 762s 28s/step - loss: 6.2617e-04 - acc: 1.0000 - val_loss: 0.0645 - val_acc: 0.9767\n",
      "\n",
      "Epoch 00006: val_loss improved from 0.07141 to 0.06452, saving model to /kaggle/working/bitmoji/model_06-0.0645.hdf5\n",
      "Epoch 7/20\n",
      "27/27 [==============================] - 757s 28s/step - loss: 4.5240e-04 - acc: 1.0000 - val_loss: 0.0647 - val_acc: 0.9767\n",
      "\n",
      "Epoch 00007: val_loss did not improve from 0.06452\n",
      "Epoch 8/20\n",
      "27/27 [==============================] - 758s 28s/step - loss: 3.6857e-04 - acc: 1.0000 - val_loss: 0.0679 - val_acc: 0.9667\n",
      "\n",
      "Epoch 00008: val_loss did not improve from 0.06452\n",
      "Epoch 9/20\n",
      "27/27 [==============================] - 760s 28s/step - loss: 3.3238e-04 - acc: 1.0000 - val_loss: 0.0716 - val_acc: 0.9667\n",
      "\n",
      "Epoch 00009: val_loss did not improve from 0.06452\n",
      "Epoch 10/20\n",
      "27/27 [==============================] - 760s 28s/step - loss: 3.0473e-04 - acc: 1.0000 - val_loss: 0.0749 - val_acc: 0.9700\n",
      "\n",
      "Epoch 00010: val_loss did not improve from 0.06452\n",
      "Epoch 11/20\n",
      "27/27 [==============================] - 759s 28s/step - loss: 2.8377e-04 - acc: 1.0000 - val_loss: 0.0776 - val_acc: 0.9700\n",
      "Restoring model weights from the end of the best epoch.\n",
      "\n",
      "Epoch 00011: val_loss did not improve from 0.06452\n",
      "Epoch 00011: early stopping\n"
     ]
    }
   ],
   "source": [
    "for layer in model.layers[:369]:\n",
    "   layer.trainable = False\n",
    "for layer in model.layers[369:]:\n",
    "   layer.trainable = True\n",
    "\n",
    "model.compile(optimizer=SGD(lr=0.0001, momentum=0.9), loss='binary_crossentropy', metrics=['acc'])\n",
    "\n",
    "early_stopping = EarlyStopping(monitor='val_loss', min_delta=2e-3, patience=5, verbose=1, mode='auto', restore_best_weights=True)\n",
    "checkpoint = ModelCheckpoint('/kaggle/working/bitmoji/model_{epoch:02d}-{val_loss:.4f}.hdf5', monitor='val_loss', \\\n",
    "                             verbose=1, save_best_only=True, save_weights_only=False, mode='auto', period=1)\n",
    "tensorboard = TensorBoard(log_dir='/kaggle/working/bitmoji/logs/train', histogram_freq=1, batch_size=max_batch, write_graph=True, write_grads=True, \\\n",
    "                          write_images=False, embeddings_freq=0, embeddings_layer_names=None, embeddings_metadata=None, embeddings_data=None, update_freq='batch')\n",
    "\n",
    "history = model.fit_generator(\n",
    "    generator=data_generator(),\n",
    "    steps_per_epoch=max_batch,\n",
    "    epochs=20,\n",
    "    max_queue_size=1,\n",
    "    validation_data=(x_val, y_val),\n",
    "    callbacks=[early_stopping, checkpoint, tensorboard]\n",
    ")"
   ]
  },
  {
   "cell_type": "code",
   "execution_count": 9,
   "id": "7b9624bc",
   "metadata": {
    "execution": {
     "iopub.execute_input": "2022-12-13T11:14:50.877210Z",
     "iopub.status.busy": "2022-12-13T11:14:50.876819Z",
     "iopub.status.idle": "2022-12-13T11:14:50.884169Z",
     "shell.execute_reply": "2022-12-13T11:14:50.882614Z"
    },
    "papermill": {
     "duration": 0.046683,
     "end_time": "2022-12-13T11:14:50.886685",
     "exception": false,
     "start_time": "2022-12-13T11:14:50.840002",
     "status": "completed"
    },
    "tags": []
   },
   "outputs": [
    {
     "name": "stdout",
     "output_type": "stream",
     "text": [
      "pretrain history:\n",
      "[0, 1, 2, 3, 4]\n",
      "{'loss': [0.5540735721588135, 0.1970006376504898, 0.14054395258426666, 0.06369644403457642, 0.00868168007582426], 'acc': [0.8296296000480652, 0.9300000071525574, 0.9492592811584473, 0.9725925922393799, 0.9988889098167419], 'val_loss': [0.20219452679157257, 0.11695271730422974, 0.08372467011213303, 0.07800912857055664, 0.6193128228187561], 'val_acc': [0.9100000262260437, 0.9333333373069763, 0.9700000286102295, 0.9666666388511658, 0.7766666412353516]}\n",
      "train history:\n",
      "[0, 1, 2, 3, 4, 5, 6, 7, 8, 9, 10]\n",
      "{'loss': [0.01514403335750103, 0.0025170971639454365, 0.0018280870281159878, 0.0011194393737241626, 0.00084327143849805, 0.0006261746748350561, 0.0004523951793089509, 0.00036857122904621065, 0.00033238076139241457, 0.0003047329082619399, 0.00028376534464769065], 'acc': [0.9959259033203125, 1.0, 1.0, 1.0, 1.0, 1.0, 1.0, 1.0, 1.0, 1.0, 1.0], 'val_loss': [0.37907662987709045, 0.22513872385025024, 0.13849057257175446, 0.09258077293634415, 0.0714050829410553, 0.06452059745788574, 0.0646636113524437, 0.06786499917507172, 0.07159268110990524, 0.07494481652975082, 0.07762334495782852], 'val_acc': [0.8766666650772095, 0.9233333468437195, 0.95333331823349, 0.9666666388511658, 0.9733333587646484, 0.9766666889190674, 0.9766666889190674, 0.9666666388511658, 0.9666666388511658, 0.9700000286102295, 0.9700000286102295]}\n"
     ]
    }
   ],
   "source": [
    "print(\"pretrain history:\")\n",
    "print(history_pretrain.epoch)\n",
    "print(history_pretrain.history)\n",
    "print(\"train history:\")\n",
    "print(history.epoch)\n",
    "print(history.history)"
   ]
  },
  {
   "cell_type": "code",
   "execution_count": 10,
   "id": "4a8c0e9f",
   "metadata": {
    "execution": {
     "iopub.execute_input": "2022-12-13T11:14:50.960006Z",
     "iopub.status.busy": "2022-12-13T11:14:50.959622Z",
     "iopub.status.idle": "2022-12-13T11:14:50.967285Z",
     "shell.execute_reply": "2022-12-13T11:14:50.966002Z"
    },
    "papermill": {
     "duration": 0.047963,
     "end_time": "2022-12-13T11:14:50.970089",
     "exception": false,
     "start_time": "2022-12-13T11:14:50.922126",
     "status": "completed"
    },
    "tags": []
   },
   "outputs": [],
   "source": [
    "with open(\"pretrain_history.pkl\", 'wb') as fp:\n",
    "    pkl.dump(history_pretrain.history, fp)\n",
    "with open(\"history.pkl\", 'wb') as fp:\n",
    "    pkl.dump(history_pretrain.history, fp)"
   ]
  },
  {
   "cell_type": "code",
   "execution_count": 11,
   "id": "6e8daabb",
   "metadata": {
    "execution": {
     "iopub.execute_input": "2022-12-13T11:14:51.056815Z",
     "iopub.status.busy": "2022-12-13T11:14:51.056200Z",
     "iopub.status.idle": "2022-12-13T11:14:52.216261Z",
     "shell.execute_reply": "2022-12-13T11:14:52.214785Z"
    },
    "papermill": {
     "duration": 1.213257,
     "end_time": "2022-12-13T11:14:52.219344",
     "exception": false,
     "start_time": "2022-12-13T11:14:51.006087",
     "status": "completed"
    },
    "tags": []
   },
   "outputs": [],
   "source": [
    "model.save(\"/kaggle/working/bitmoji/model\" + str(datetime.now()) + \".h5\")"
   ]
  },
  {
   "cell_type": "code",
   "execution_count": 12,
   "id": "ffcc3240",
   "metadata": {
    "execution": {
     "iopub.execute_input": "2022-12-13T11:14:52.292748Z",
     "iopub.status.busy": "2022-12-13T11:14:52.292328Z",
     "iopub.status.idle": "2022-12-13T11:14:52.310771Z",
     "shell.execute_reply": "2022-12-13T11:14:52.309279Z"
    },
    "papermill": {
     "duration": 0.058646,
     "end_time": "2022-12-13T11:14:52.313659",
     "exception": false,
     "start_time": "2022-12-13T11:14:52.255013",
     "status": "completed"
    },
    "tags": []
   },
   "outputs": [],
   "source": [
    "test = pd.read_csv(\"/kaggle/input/bitmoji-faces-gender-recognition/sample_submission.csv\")\n",
    "test_name = test['image_id']"
   ]
  },
  {
   "cell_type": "code",
   "execution_count": 13,
   "id": "2df77f3d",
   "metadata": {
    "execution": {
     "iopub.execute_input": "2022-12-13T11:14:52.385779Z",
     "iopub.status.busy": "2022-12-13T11:14:52.385173Z",
     "iopub.status.idle": "2022-12-13T11:15:11.645903Z",
     "shell.execute_reply": "2022-12-13T11:15:11.643073Z"
    },
    "papermill": {
     "duration": 19.300399,
     "end_time": "2022-12-13T11:15:11.648847",
     "exception": false,
     "start_time": "2022-12-13T11:14:52.348448",
     "status": "completed"
    },
    "tags": []
   },
   "outputs": [
    {
     "name": "stdout",
     "output_type": "stream",
     "text": [
      "(1084, 384, 384, 3)\n"
     ]
    }
   ],
   "source": [
    "x_test = list()\n",
    "for name in test_name:\n",
    "    x_tmp = mpimg.imread(path_test + name).astype(np.float64)\n",
    "    x_tmp /= 255\n",
    "    x_test.append(x_tmp)\n",
    "x_test = np.array(x_test)\n",
    "print(x_test.shape)"
   ]
  },
  {
   "cell_type": "code",
   "execution_count": 14,
   "id": "33e747be",
   "metadata": {
    "execution": {
     "iopub.execute_input": "2022-12-13T11:15:11.725723Z",
     "iopub.status.busy": "2022-12-13T11:15:11.724829Z",
     "iopub.status.idle": "2022-12-13T11:18:56.826956Z",
     "shell.execute_reply": "2022-12-13T11:18:56.825619Z"
    },
    "papermill": {
     "duration": 225.143911,
     "end_time": "2022-12-13T11:18:56.829991",
     "exception": false,
     "start_time": "2022-12-13T11:15:11.686080",
     "status": "completed"
    },
    "tags": []
   },
   "outputs": [],
   "source": [
    "y_pred = model.predict(x_test)"
   ]
  },
  {
   "cell_type": "code",
   "execution_count": 15,
   "id": "40796921",
   "metadata": {
    "execution": {
     "iopub.execute_input": "2022-12-13T11:18:56.904828Z",
     "iopub.status.busy": "2022-12-13T11:18:56.903387Z",
     "iopub.status.idle": "2022-12-13T11:18:56.912121Z",
     "shell.execute_reply": "2022-12-13T11:18:56.910635Z"
    },
    "papermill": {
     "duration": 0.04891,
     "end_time": "2022-12-13T11:18:56.914702",
     "exception": false,
     "start_time": "2022-12-13T11:18:56.865792",
     "status": "completed"
    },
    "tags": []
   },
   "outputs": [
    {
     "name": "stdout",
     "output_type": "stream",
     "text": [
      "[[1.4909953e-06 9.9999845e-01]\n",
      " [9.3311928e-02 9.0668803e-01]\n",
      " [2.0473009e-07 9.9999976e-01]\n",
      " ...\n",
      " [1.0000000e+00 2.1512512e-09]\n",
      " [9.9030853e-12 1.0000000e+00]\n",
      " [1.0000000e+00 2.2417620e-08]]\n"
     ]
    }
   ],
   "source": [
    "print(y_pred)"
   ]
  },
  {
   "cell_type": "code",
   "execution_count": 16,
   "id": "194d783c",
   "metadata": {
    "execution": {
     "iopub.execute_input": "2022-12-13T11:18:56.990562Z",
     "iopub.status.busy": "2022-12-13T11:18:56.990139Z",
     "iopub.status.idle": "2022-12-13T11:18:59.619479Z",
     "shell.execute_reply": "2022-12-13T11:18:59.617894Z"
    },
    "papermill": {
     "duration": 2.671346,
     "end_time": "2022-12-13T11:18:59.622754",
     "exception": false,
     "start_time": "2022-12-13T11:18:56.951408",
     "status": "completed"
    },
    "tags": []
   },
   "outputs": [
    {
     "name": "stdout",
     "output_type": "stream",
     "text": [
      "      image_id is_male\n",
      "0     3000.jpg      -1\n",
      "1     3001.jpg      -1\n",
      "2     3002.jpg      -1\n",
      "3     3003.jpg       1\n",
      "4     3004.jpg      -1\n",
      "...        ...     ...\n",
      "1079  4079.jpg      -1\n",
      "1080  4080.jpg       1\n",
      "1081  4081.jpg       1\n",
      "1082  4082.jpg      -1\n",
      "1083  4083.jpg       1\n",
      "\n",
      "[1084 rows x 2 columns]\n"
     ]
    }
   ],
   "source": [
    "result = pd.DataFrame(columns=['image_id', 'is_male'])\n",
    "for i in range(1084):\n",
    "    x = test_name[i]\n",
    "    y = '1' if y_pred[i][0] > y_pred[i][1] else '-1'\n",
    "    x_y = {'image_id':x, 'is_male':y}\n",
    "    result = result.append(x_y, ignore_index=True)\n",
    "print(result)"
   ]
  },
  {
   "cell_type": "code",
   "execution_count": 17,
   "id": "9cc02434",
   "metadata": {
    "execution": {
     "iopub.execute_input": "2022-12-13T11:18:59.699313Z",
     "iopub.status.busy": "2022-12-13T11:18:59.698299Z",
     "iopub.status.idle": "2022-12-13T11:18:59.710642Z",
     "shell.execute_reply": "2022-12-13T11:18:59.709335Z"
    },
    "papermill": {
     "duration": 0.054144,
     "end_time": "2022-12-13T11:18:59.713579",
     "exception": false,
     "start_time": "2022-12-13T11:18:59.659435",
     "status": "completed"
    },
    "tags": []
   },
   "outputs": [],
   "source": [
    "#file_name = 'result_' + str(datetime.now()).replace(' ', '_') + '.csv'\n",
    "file_name='submission.csv'\n",
    "'''with open(file_name, encoding = 'utf8') as fp:\n",
    "    result.to_csv(file_name, index = False)'''\n",
    "result.to_csv(file_name, index = False)"
   ]
  }
 ],
 "metadata": {
  "kernelspec": {
   "display_name": "Python 3",
   "language": "python",
   "name": "python3"
  },
  "language_info": {
   "codemirror_mode": {
    "name": "ipython",
    "version": 3
   },
   "file_extension": ".py",
   "mimetype": "text/x-python",
   "name": "python",
   "nbconvert_exporter": "python",
   "pygments_lexer": "ipython3",
   "version": "3.7.12"
  },
  "papermill": {
   "default_parameters": {},
   "duration": 11806.244519,
   "end_time": "2022-12-13T11:19:03.772389",
   "environment_variables": {},
   "exception": null,
   "input_path": "__notebook__.ipynb",
   "output_path": "__notebook__.ipynb",
   "parameters": {},
   "start_time": "2022-12-13T08:02:17.527870",
   "version": "2.3.4"
  }
 },
 "nbformat": 4,
 "nbformat_minor": 5
}
